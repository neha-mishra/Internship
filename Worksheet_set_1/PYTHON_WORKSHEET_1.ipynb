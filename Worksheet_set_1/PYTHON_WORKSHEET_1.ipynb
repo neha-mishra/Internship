{
 "cells": [
  {
   "cell_type": "raw",
   "id": "910ae8e0",
   "metadata": {},
   "source": [
    "Q 01. Which of the following operators is used to calculate remainder in a division?\n",
    "A 01. C) %"
   ]
  },
  {
   "cell_type": "raw",
   "id": "c09b7621",
   "metadata": {},
   "source": [
    "Q 02. In python 2//3 is equal to?\n",
    "A 02. B) 0"
   ]
  },
  {
   "cell_type": "raw",
   "id": "69f50e1c",
   "metadata": {},
   "source": [
    "Q 03. In python, 6<<2 is equal to?\n",
    "A 03. C) 24"
   ]
  },
  {
   "cell_type": "raw",
   "id": "23f77742",
   "metadata": {},
   "source": [
    "Q 04. In python, 6&2 will give which of the following as output?\n",
    "A 04. A) 2"
   ]
  },
  {
   "cell_type": "raw",
   "id": "06cf244b",
   "metadata": {},
   "source": [
    "Q 05. In python, 6|2 will give which of the following as output?\n",
    "A 05. D) 6"
   ]
  },
  {
   "cell_type": "raw",
   "id": "27840cc2",
   "metadata": {},
   "source": [
    "Q 06. What does the finally keyword denotes in python?\n",
    "A 06. C) the finally block will be executed no matter if the try block raises an error or not."
   ]
  },
  {
   "cell_type": "raw",
   "id": "d385bb8b",
   "metadata": {},
   "source": [
    "Q 07. What does raise keyword is used for in python?\n",
    "A 07. A) It is used to raise an exception."
   ]
  },
  {
   "cell_type": "raw",
   "id": "dabde916",
   "metadata": {},
   "source": [
    "Q 08. Which of the following is a common use case of yield keyword in python?\n",
    "A 08. C) in defining a generator"
   ]
  },
  {
   "cell_type": "raw",
   "id": "25ffc08a",
   "metadata": {},
   "source": [
    "Q 09. Which of the following are the valid variable names?\n",
    "A 09. A) _abc     \n",
    "      C) abc2"
   ]
  },
  {
   "cell_type": "raw",
   "id": "2bd3dafb",
   "metadata": {},
   "source": [
    "Q 10. Which of the following are the keywords in python?\n",
    "A 10. A) yield\n",
    "      B) raise"
   ]
  },
  {
   "cell_type": "code",
   "execution_count": null,
   "id": "b138b87f",
   "metadata": {},
   "outputs": [],
   "source": [
    "Q 11. Write a python program to find the factorial of a number.\n",
    "A 11."
   ]
  },
  {
   "cell_type": "code",
   "execution_count": null,
   "id": "68464204",
   "metadata": {},
   "outputs": [],
   "source": [
    "# Program to find the factorial of a number\n",
    "\n",
    "def get_factorial():\n",
    "    \n",
    "    # Take input from the user\n",
    "    num = input(\"Enter any number, or 'q' to quit : \")\n",
    "    \n",
    "    # Check if user wants to Quit\n",
    "    if num == 'q':\n",
    "        return None\n",
    "    \n",
    "    try:\n",
    "        # Convert user input to integer\n",
    "        num = int(num)\n",
    "        \n",
    "        if num < 0:    \n",
    "            print(\"Factorial does not exist for negative numbers\")\n",
    "            return(get_factorial())\n",
    "        \n",
    "        elif num == 0:    \n",
    "            print(\"The Factorial of 0 is 1\")\n",
    "            return(get_factorial())\n",
    "        \n",
    "        else:\n",
    "            # Local variable for Calculating Factorial\n",
    "            factorial = 1\n",
    "            \n",
    "            for i in range(1, num + 1):    \n",
    "                factorial = factorial * i \n",
    "                \n",
    "            print(\"The Factorial of\", num, \"is :\", factorial)\n",
    "            return(get_factorial())\n",
    "        \n",
    "    except ValueError:\n",
    "        \n",
    "        print(\"The input was not a valid integer.\")\n",
    "        return(get_factorial())\n",
    "              \n",
    "user_number = get_factorial()"
   ]
  },
  {
   "cell_type": "code",
   "execution_count": null,
   "id": "efee3243",
   "metadata": {},
   "outputs": [],
   "source": [
    "Q 12. Write a python program to find whether a number is prime or composite.\n",
    "A 12."
   ]
  },
  {
   "cell_type": "code",
   "execution_count": null,
   "id": "599285f5",
   "metadata": {},
   "outputs": [],
   "source": [
    "#Program to check if the number is Prime or Composite\n",
    "\n",
    "def check_prime_number():\n",
    "    \n",
    "    # define a flag variable\n",
    "    flag = False\n",
    "    \n",
    "    try:\n",
    "\n",
    "        # Take input from the user\n",
    "        num = input(\"Enter any number, or 'q' to quit :\")\n",
    "        \n",
    "        # Check if user wants to Quit\n",
    "        if num == 'q':\n",
    "            return None\n",
    "    \n",
    "        # Convert user input to integer\n",
    "        num = int(num)\n",
    "    \n",
    "        # 0 and 1 are neither a Prime nor Composite Number\n",
    "        if(num == 0 or num == 1):\n",
    "            print(num, \"is neither a Prime nor Composite Number\")\n",
    "            return(check_prime_number())\n",
    "            \n",
    "        elif(num == 2):\n",
    "            print(num, \"is a Prime Number\")\n",
    "            return(check_prime_number())\n",
    "            \n",
    "        elif num > 1 :\n",
    "            for i in range(2, num):\n",
    "                if(num % i == 0):\n",
    "                    flag = True      # if factor is found, set flag to True\n",
    "                    break            # break out of loop\n",
    "            \n",
    "            # check if flag is True\n",
    "            if flag:\n",
    "                print(num, \"is a Composite Number\")\n",
    "            else:\n",
    "                print(num, \"is a Prime Number\")\n",
    "            \n",
    "            return(check_prime_number())\n",
    "        \n",
    "        else :\n",
    "            print(\"Please enter positive number only \")\n",
    "            return(check_prime_number())\n",
    "        \n",
    "    except ValueError:\n",
    "        print(\"The input was not a valid integer.\")\n",
    "        return(check_prime_number())\n",
    "              \n",
    "user_number = check_prime_number()"
   ]
  },
  {
   "cell_type": "code",
   "execution_count": null,
   "id": "8cc2def6",
   "metadata": {},
   "outputs": [],
   "source": [
    "Q 13. Write a python program to check whether a given string is palindrome or not.\n",
    "A 13."
   ]
  },
  {
   "cell_type": "code",
   "execution_count": null,
   "id": "c2c5e87b",
   "metadata": {},
   "outputs": [],
   "source": [
    "#Program to check if string is palindrome or not\n",
    "\n",
    "def check_palindrome():\n",
    "    \n",
    "    # Take input from the user\n",
    "    test_str = input(\"Enter any string, or 'q' to quit :\")\n",
    "    \n",
    "    # Check if user wants to Quit\n",
    "    if test_str == 'q':\n",
    "        return None\n",
    "    \n",
    "    # Make it suitable for caseless comparison\n",
    "    #test_str = test_str.lower()\n",
    "    \n",
    "    # Reverse the string\n",
    "    rev_str = test_str[::-1]\n",
    "    \n",
    "    # Check if the string is equal to its reverse\n",
    "    if list(test_str) == list(rev_str):\n",
    "        print(\"The input string is a palindrome.\")\n",
    "    else:\n",
    "        print(\"The input string is not a palindrome.\")\n",
    "    \n",
    "    return(check_palindrome())\n",
    "              \n",
    "str_palindrome = check_palindrome()"
   ]
  },
  {
   "cell_type": "code",
   "execution_count": null,
   "id": "7d859d87",
   "metadata": {},
   "outputs": [],
   "source": [
    "Q 14. Write a Python program to get the third side of right-angled triangle from two given sides.\n",
    "A 14."
   ]
  },
  {
   "cell_type": "code",
   "execution_count": null,
   "id": "0202d0e0",
   "metadata": {},
   "outputs": [],
   "source": [
    "#Program to get the third side of right-angled triangle from two given sides.\n",
    "\n",
    "def pythagoras(opposite_side, adjacent_side, hypotenuse):\n",
    "    \n",
    "    str_output = \"\"\n",
    "    \n",
    "    # If Opposite Side is missing\n",
    "    if opposite_side == str(\"x\"):\n",
    "        str_output += \"Adjacent Side = \" + str(adjacent_side) + \"    Hypotenuse = \" + str(hypotenuse)\n",
    "        str_output += \"\\nOpposite Side = \" + str(((hypotenuse ** 2) - (adjacent_side ** 2)) ** 0.5)\n",
    "    \n",
    "    # If Adjacent Side is missing\n",
    "    elif adjacent_side == str(\"x\"):\n",
    "        str_output += \"Opposite Side = \" + str(opposite_side) + \"    Hypotenuse = \" + str(hypotenuse)\n",
    "        str_output += \"\\nAdjacent Side = \" + str(((hypotenuse ** 2) - (opposite_side ** 2)) ** 0.5)\n",
    "    \n",
    "    # If Hypotenuse is missing\n",
    "    elif hypotenuse == str(\"x\"):\n",
    "        str_output += \"Adjacent Side = \" + str(adjacent_side) + \"    Opposite Side = \" + str(opposite_side)\n",
    "        str_output += \"\\nHypotenuse = \" + str(((opposite_side ** 2) + (adjacent_side ** 2)) ** 0.5)\n",
    "    \n",
    "    else:\n",
    "        str_output += \"Adjacent Side = \" + str(adjacent_side) + \"    Opposite Side = \" + str(opposite_side) + \"    Hypotenuse = \" + str(hypotenuse)\n",
    "        \n",
    "    return str_output\n",
    "\n",
    "print(pythagoras(3, 4, 'x'))\n",
    "print(pythagoras(3, 'x', 5))\n",
    "print(pythagoras('x', 4, 5))\n",
    "print(pythagoras(3, 4, 5))"
   ]
  },
  {
   "cell_type": "code",
   "execution_count": null,
   "id": "fde28748",
   "metadata": {},
   "outputs": [],
   "source": [
    "Q 15. Write a python program to print the frequency of each of the characters present in a given string.\n",
    "A 15."
   ]
  },
  {
   "cell_type": "code",
   "execution_count": null,
   "id": "76b7d3e7",
   "metadata": {},
   "outputs": [],
   "source": [
    "# Program to print the frequency of each of the characters present in a given string.\n",
    "\n",
    "def count_characters():\n",
    "    \n",
    "    # Take input from the user\n",
    "    test_str = input(\"Enter any string, or 'q' to quit :\")\n",
    "    \n",
    "    # Check if user wants to Quit\n",
    "    if test_str == 'q':\n",
    "        return None\n",
    "    \n",
    "    all_freq = {}\n",
    "  \n",
    "    for i in test_str:\n",
    "        \n",
    "        if i in all_freq:\n",
    "            all_freq[i] += 1\n",
    "            \n",
    "        else:\n",
    "            all_freq[i] = 1\n",
    "            \n",
    "    print ('Count of all characters in \"' + test_str + '\" is :\\n    ' +  str(all_freq))\n",
    "    return(count_characters())\n",
    "\n",
    "user_string = count_characters()"
   ]
  }
 ],
 "metadata": {
  "kernelspec": {
   "display_name": "Python 3 (ipykernel)",
   "language": "python",
   "name": "python3"
  },
  "language_info": {
   "codemirror_mode": {
    "name": "ipython",
    "version": 3
   },
   "file_extension": ".py",
   "mimetype": "text/x-python",
   "name": "python",
   "nbconvert_exporter": "python",
   "pygments_lexer": "ipython3",
   "version": "3.9.7"
  }
 },
 "nbformat": 4,
 "nbformat_minor": 5
}
